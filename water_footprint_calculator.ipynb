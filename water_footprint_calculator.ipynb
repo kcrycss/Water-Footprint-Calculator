{
 "cells": [
  {
   "cell_type": "markdown",
   "metadata": {},
   "source": [
    "![](images_notes/Picture1.png)"
   ]
  },
  {
   "cell_type": "markdown",
   "metadata": {},
   "source": [
    "## Residential Outdoor and Landscaping Water Use"
   ]
  },
  {
   "cell_type": "markdown",
   "metadata": {},
   "source": [
    "## Evaporation from swimming pools"
   ]
  },
  {
   "cell_type": "markdown",
   "metadata": {},
   "source": [
    "<br>\n",
    "Let's import our datafile california.csv and water_bodies.csv which contains CA evotranspiration rate and evoporation rates.\n",
    "\n",
    "* zip_code : CA zip code number\n",
    "* zone : CA zone\n",
    "* Water bodies zones for pan evo\n",
    "* latitude : decimal degree\n",
    "* longitude : decimal degree\n",
    "* date : months \n",
    "* eto : evotranspiration meters per day (m/day)\n",
    "* evo : evaporation rate inches "
   ]
  },
  {
   "cell_type": "code",
   "execution_count": 1,
   "metadata": {},
   "outputs": [],
   "source": [
    "CU = 0.6233"
   ]
  },
  {
   "cell_type": "code",
   "execution_count": 2,
   "metadata": {},
   "outputs": [],
   "source": [
    "%matplotlib inline\n",
    "import math\n",
    "import webbrowser as wb\n",
    "import matplotlib.pyplot as plt\n",
    "import pandas as pd\n",
    "from fpdf import FPDF"
   ]
  },
  {
   "cell_type": "code",
   "execution_count": 3,
   "metadata": {},
   "outputs": [
    {
     "data": {
      "text/html": [
       "<div>\n",
       "<style scoped>\n",
       "    .dataframe tbody tr th:only-of-type {\n",
       "        vertical-align: middle;\n",
       "    }\n",
       "\n",
       "    .dataframe tbody tr th {\n",
       "        vertical-align: top;\n",
       "    }\n",
       "\n",
       "    .dataframe thead th {\n",
       "        text-align: right;\n",
       "    }\n",
       "</style>\n",
       "<table border=\"1\" class=\"dataframe\">\n",
       "  <thead>\n",
       "    <tr style=\"text-align: right;\">\n",
       "      <th></th>\n",
       "      <th>zone</th>\n",
       "      <th>Latitude</th>\n",
       "      <th>Longitude</th>\n",
       "      <th>month</th>\n",
       "      <th>p50</th>\n",
       "      <th>temp_mean</th>\n",
       "      <th>dtr</th>\n",
       "      <th>ref_humid</th>\n",
       "      <th>sunshine</th>\n",
       "      <th>wind_run</th>\n",
       "      <th>eto</th>\n",
       "    </tr>\n",
       "    <tr>\n",
       "      <th>zip_code</th>\n",
       "      <th></th>\n",
       "      <th></th>\n",
       "      <th></th>\n",
       "      <th></th>\n",
       "      <th></th>\n",
       "      <th></th>\n",
       "      <th></th>\n",
       "      <th></th>\n",
       "      <th></th>\n",
       "      <th></th>\n",
       "      <th></th>\n",
       "    </tr>\n",
       "  </thead>\n",
       "  <tbody>\n",
       "    <tr>\n",
       "      <th>90001</th>\n",
       "      <td>Firestone Park Los Angeles County</td>\n",
       "      <td>33.963094</td>\n",
       "      <td>-118.232598</td>\n",
       "      <td>Jan</td>\n",
       "      <td>49.55</td>\n",
       "      <td>14.0</td>\n",
       "      <td>11.0</td>\n",
       "      <td>64.0</td>\n",
       "      <td>70.0</td>\n",
       "      <td>2.9</td>\n",
       "      <td>2.27</td>\n",
       "    </tr>\n",
       "    <tr>\n",
       "      <th>90001</th>\n",
       "      <td>Firestone Park Los Angeles County</td>\n",
       "      <td>33.963094</td>\n",
       "      <td>-118.232598</td>\n",
       "      <td>Feb</td>\n",
       "      <td>41.08</td>\n",
       "      <td>14.8</td>\n",
       "      <td>10.6</td>\n",
       "      <td>67.0</td>\n",
       "      <td>71.0</td>\n",
       "      <td>3.3</td>\n",
       "      <td>2.74</td>\n",
       "    </tr>\n",
       "    <tr>\n",
       "      <th>90001</th>\n",
       "      <td>Firestone Park Los Angeles County</td>\n",
       "      <td>33.963094</td>\n",
       "      <td>-118.232598</td>\n",
       "      <td>Mar</td>\n",
       "      <td>37.38</td>\n",
       "      <td>15.2</td>\n",
       "      <td>9.7</td>\n",
       "      <td>69.0</td>\n",
       "      <td>71.0</td>\n",
       "      <td>3.7</td>\n",
       "      <td>3.29</td>\n",
       "    </tr>\n",
       "    <tr>\n",
       "      <th>90001</th>\n",
       "      <td>Firestone Park Los Angeles County</td>\n",
       "      <td>33.963094</td>\n",
       "      <td>-118.232598</td>\n",
       "      <td>Apr</td>\n",
       "      <td>13.68</td>\n",
       "      <td>16.7</td>\n",
       "      <td>9.9</td>\n",
       "      <td>67.0</td>\n",
       "      <td>77.0</td>\n",
       "      <td>3.9</td>\n",
       "      <td>4.22</td>\n",
       "    </tr>\n",
       "    <tr>\n",
       "      <th>90001</th>\n",
       "      <td>Firestone Park Los Angeles County</td>\n",
       "      <td>33.963094</td>\n",
       "      <td>-118.232598</td>\n",
       "      <td>May</td>\n",
       "      <td>0.80</td>\n",
       "      <td>18.1</td>\n",
       "      <td>8.7</td>\n",
       "      <td>70.0</td>\n",
       "      <td>65.0</td>\n",
       "      <td>3.8</td>\n",
       "      <td>4.35</td>\n",
       "    </tr>\n",
       "  </tbody>\n",
       "</table>\n",
       "</div>"
      ],
      "text/plain": [
       "                                       zone   Latitude   Longitude month  \\\n",
       "zip_code                                                                   \n",
       "90001     Firestone Park Los Angeles County  33.963094 -118.232598   Jan   \n",
       "90001     Firestone Park Los Angeles County  33.963094 -118.232598   Feb   \n",
       "90001     Firestone Park Los Angeles County  33.963094 -118.232598   Mar   \n",
       "90001     Firestone Park Los Angeles County  33.963094 -118.232598   Apr   \n",
       "90001     Firestone Park Los Angeles County  33.963094 -118.232598   May   \n",
       "\n",
       "            p50  temp_mean   dtr  ref_humid  sunshine  wind_run   eto  \n",
       "zip_code                                                               \n",
       "90001     49.55       14.0  11.0       64.0      70.0       2.9  2.27  \n",
       "90001     41.08       14.8  10.6       67.0      71.0       3.3  2.74  \n",
       "90001     37.38       15.2   9.7       69.0      71.0       3.7  3.29  \n",
       "90001     13.68       16.7   9.9       67.0      77.0       3.9  4.22  \n",
       "90001      0.80       18.1   8.7       70.0      65.0       3.8  4.35  "
      ]
     },
     "execution_count": 3,
     "metadata": {},
     "output_type": "execute_result"
    }
   ],
   "source": [
    "cdp = pd.read_csv('./california.csv')\n",
    "cdp = cdp.set_index('zip_code')\n",
    "cdp.head()"
   ]
  },
  {
   "cell_type": "code",
   "execution_count": 4,
   "metadata": {},
   "outputs": [
    {
     "data": {
      "text/html": [
       "<div>\n",
       "<style scoped>\n",
       "    .dataframe tbody tr th:only-of-type {\n",
       "        vertical-align: middle;\n",
       "    }\n",
       "\n",
       "    .dataframe tbody tr th {\n",
       "        vertical-align: top;\n",
       "    }\n",
       "\n",
       "    .dataframe thead th {\n",
       "        text-align: right;\n",
       "    }\n",
       "</style>\n",
       "<table border=\"1\" class=\"dataframe\">\n",
       "  <thead>\n",
       "    <tr style=\"text-align: right;\">\n",
       "      <th></th>\n",
       "      <th>water_bodies</th>\n",
       "      <th>Latitude</th>\n",
       "      <th>Longitude</th>\n",
       "      <th>month</th>\n",
       "      <th>pan_evo</th>\n",
       "    </tr>\n",
       "    <tr>\n",
       "      <th>zip</th>\n",
       "      <th></th>\n",
       "      <th></th>\n",
       "      <th></th>\n",
       "      <th></th>\n",
       "      <th></th>\n",
       "    </tr>\n",
       "  </thead>\n",
       "  <tbody>\n",
       "    <tr>\n",
       "      <th>94561</th>\n",
       "      <td>Antioch Pump Plant  3, California</td>\n",
       "      <td>38.004921</td>\n",
       "      <td>-121.805789</td>\n",
       "      <td>Jan</td>\n",
       "      <td>1.17</td>\n",
       "    </tr>\n",
       "    <tr>\n",
       "      <th>94561</th>\n",
       "      <td>Antioch Pump Plant  3, California</td>\n",
       "      <td>38.004921</td>\n",
       "      <td>-121.805789</td>\n",
       "      <td>Feb</td>\n",
       "      <td>1.99</td>\n",
       "    </tr>\n",
       "    <tr>\n",
       "      <th>94561</th>\n",
       "      <td>Antioch Pump Plant  3, California</td>\n",
       "      <td>38.004921</td>\n",
       "      <td>-121.805789</td>\n",
       "      <td>Mar</td>\n",
       "      <td>4.25</td>\n",
       "    </tr>\n",
       "    <tr>\n",
       "      <th>94561</th>\n",
       "      <td>Antioch Pump Plant  3, California</td>\n",
       "      <td>38.004921</td>\n",
       "      <td>-121.805789</td>\n",
       "      <td>Apr</td>\n",
       "      <td>6.27</td>\n",
       "    </tr>\n",
       "    <tr>\n",
       "      <th>94561</th>\n",
       "      <td>Antioch Pump Plant  3, California</td>\n",
       "      <td>38.004921</td>\n",
       "      <td>-121.805789</td>\n",
       "      <td>May</td>\n",
       "      <td>8.96</td>\n",
       "    </tr>\n",
       "  </tbody>\n",
       "</table>\n",
       "</div>"
      ],
      "text/plain": [
       "                            water_bodies   Latitude  Longitude  month  pan_evo\n",
       "zip                                                                           \n",
       "94561  Antioch Pump Plant  3, California  38.004921 -121.805789   Jan     1.17\n",
       "94561  Antioch Pump Plant  3, California  38.004921 -121.805789   Feb     1.99\n",
       "94561  Antioch Pump Plant  3, California  38.004921 -121.805789   Mar     4.25\n",
       "94561  Antioch Pump Plant  3, California  38.004921 -121.805789   Apr     6.27\n",
       "94561  Antioch Pump Plant  3, California  38.004921 -121.805789   May     8.96"
      ]
     },
     "execution_count": 4,
     "metadata": {},
     "output_type": "execute_result"
    }
   ],
   "source": [
    "pld = pd.read_csv('./water_bodies.csv')\n",
    "pld = pld.set_index('zip')\n",
    "pld.head()"
   ]
  },
  {
   "cell_type": "code",
   "execution_count": 5,
   "metadata": {},
   "outputs": [
    {
     "name": "stdout",
     "output_type": "stream",
     "text": [
      "Enter a valid California zipcode: 94305\n",
      "94305 is a valid CA zipcode\n"
     ]
    }
   ],
   "source": [
    "while True:\n",
    "    user_z = int(input(\"Enter a valid California zipcode: \"))\n",
    "    if user_z in cdp.index:\n",
    "        print(f\"{user_z} is a valid CA zipcode\")\n",
    "        break\n",
    "    else:\n",
    "        print(\"This code is not in our registry try with another \")"
   ]
  },
  {
   "cell_type": "code",
   "execution_count": 6,
   "metadata": {},
   "outputs": [
    {
     "data": {
      "text/plain": [
       "{'Palo Alto Santa Clara County', 'Stanford Santa Clara County'}"
      ]
     },
     "execution_count": 6,
     "metadata": {},
     "output_type": "execute_result"
    }
   ],
   "source": [
    "user_zip = user_z\n",
    "#Delimitating the DF to the one from user zip code\n",
    "cdp = cdp.loc[user_zip]\n",
    "#cdp\n",
    "locations = set(cdp['zone'])\n",
    "locations"
   ]
  },
  {
   "cell_type": "code",
   "execution_count": 7,
   "metadata": {},
   "outputs": [
    {
     "name": "stdout",
     "output_type": "stream",
     "text": [
      "Enter the shape of the pool S for square, C for circle or O for Oblong : s\n",
      "Enter the longitude of the pool in ft: 164\n",
      "Enter the wide of the pool in ft: 76\n",
      "\n",
      "The area of the pool is 12464 square ft\n"
     ]
    }
   ],
   "source": [
    "shape_of_the_pool = str(input(\"Enter the shape of the pool S for square, C for circle or O for Oblong : \"))\n",
    "shapes = [\"s\",\"c\", \"o\"]\n",
    "\n",
    "if shape_of_the_pool == shapes[0]:\n",
    "    pool_x = int(input(\"Enter the longitude of the pool in ft: \"))\n",
    "    pool_y = int(input(\"Enter the wide of the pool in ft: \"))\n",
    "    area = round((pool_x*pool_y),3)\n",
    "elif shape_of_the_pool == shapes[1]:\n",
    "    pool_d = int(input(\"Enter the diameter of the pool is ft : \"))\n",
    "    area = round((math.pi*(pool_d/2)**2),3)\n",
    "elif shape_of_the_pool == shapes[2]:\n",
    "    pool_a = int(input(\"Enter the larger diameter in ft: \"))\n",
    "    pool_b = int(input(\"Enter the smaller diameter in ft: \"))\n",
    "    pool_l = int(input(\"Enter the longitude of the pool in ft : \"))\n",
    "    area = round(((pool_a+pool_b)*pool_l*0.45),3)\n",
    "print(f\"\\nThe area of the pool is {area} square ft\")"
   ]
  },
  {
   "cell_type": "code",
   "execution_count": 8,
   "metadata": {},
   "outputs": [],
   "source": [
    "#searching for the nearst zipcode in our water bodies registers.\n",
    "given_value = user_z\n",
    "a_list = pld.index\n",
    "absolute_difference_function = lambda list_value : abs(list_value- given_value)\n",
    "closest_value = min(a_list, key=absolute_difference_function)\n",
    "user_w = closest_value\n",
    "pld = pld.loc[user_w]"
   ]
  },
  {
   "cell_type": "code",
   "execution_count": 9,
   "metadata": {},
   "outputs": [
    {
     "data": {
      "text/plain": [
       "{'Tracy Pumping Plant, California'}"
      ]
     },
     "execution_count": 9,
     "metadata": {},
     "output_type": "execute_result"
    }
   ],
   "source": [
    "zo = set(pld['water_bodies'])\n",
    "zo"
   ]
  },
  {
   "cell_type": "code",
   "execution_count": 10,
   "metadata": {},
   "outputs": [
    {
     "data": {
      "text/plain": [
       "month\n",
       "Jan     1.53\n",
       "Feb     2.47\n",
       "Mar     5.30\n",
       "Apr     8.20\n",
       "May    12.01\n",
       "Jun    14.88\n",
       "Jul    16.92\n",
       "Aug    14.55\n",
       "Sep    10.64\n",
       "Oct     6.57\n",
       "Nov     2.93\n",
       "Dec     1.48\n",
       "Name: pan_evo, dtype: float64"
      ]
     },
     "execution_count": 10,
     "metadata": {},
     "output_type": "execute_result"
    }
   ],
   "source": [
    "evo_year = pld[['month','pan_evo']].copy().iloc[0:12]\n",
    "#printing eto values and the month \n",
    "\n",
    "evo_year.reset_index(inplace=True)\n",
    "evo_year.set_index('month', inplace=True)\n",
    "\n",
    "evo_year = evo_year['pan_evo']\n",
    "\n",
    "evo_year"
   ]
  },
  {
   "cell_type": "code",
   "execution_count": 11,
   "metadata": {},
   "outputs": [
    {
     "name": "stdout",
     "output_type": "stream",
     "text": [
      "16.92 Jul\n",
      "[0.127, 0.206, 0.442, 0.683, 1.001, 1.24, 1.41, 1.212, 0.887, 0.547, 0.244, 0.123]\n"
     ]
    }
   ],
   "source": [
    "d_evo_year = evo_year.to_dict()\n",
    "#creating list to store the values of interest \n",
    "lst_month = []\n",
    "lst_evo = []\n",
    "convert_evo_anual =[]\n",
    "\n",
    "\n",
    "for k,v in d_evo_year.items():\n",
    "    lst_month.append(k)\n",
    "    lst_evo.append(v)\n",
    "    convert_evo_anual.append(round((0.0833333*v),3))\n",
    "\n",
    "\n",
    "max_evo = max(lst_evo)\n",
    "pos_evo = lst_evo.index(max_evo)\n",
    "\n",
    "print(max_evo, lst_month[pos_evo])\n",
    "print(convert_evo_anual)"
   ]
  },
  {
   "cell_type": "code",
   "execution_count": 12,
   "metadata": {},
   "outputs": [
    {
     "name": "stdout",
     "output_type": "stream",
     "text": [
      "Max value of evaporation rate : 16.92 inches for the month Jul\n"
     ]
    }
   ],
   "source": [
    "print(f\"Max value of evaporation rate : {max_evo} inches for the month {lst_month[pos_evo]}\")"
   ]
  },
  {
   "cell_type": "code",
   "execution_count": 13,
   "metadata": {},
   "outputs": [
    {
     "name": "stdout",
     "output_type": "stream",
     "text": [
      "Anual evaporation rate 101232.608 in ft\n"
     ]
    }
   ],
   "source": [
    "sum_areap_evo = 0\n",
    "areap_evo = [round((area*v),3) for v in convert_evo_anual]\n",
    "sum_areap_evo= round(sum(areap_evo),3)\n",
    "print(f\"Anual evaporation rate {sum_areap_evo} in ft\")\n",
    "year_water_lost = round(sum_areap_evo*7.48052*0.0020,3)\n"
   ]
  },
  {
   "cell_type": "code",
   "execution_count": 14,
   "metadata": {},
   "outputs": [
    {
     "name": "stdout",
     "output_type": "stream",
     "text": [
      "131464.454 gallons is the amount of water evaporated from the pool for the peak month Jul in CA,\n",
      "Stanford Santa Clara County and Palo Alto Santa Clara County\n"
     ]
    }
   ],
   "source": [
    "print( f\"{round(max(convert_evo_anual)*area*7.48052,3)} gallons is the amount of water evaporated from the pool for the peak month {lst_month[pos_evo]} in CA,\")\n",
    "print(*locations, sep = \" and \")"
   ]
  },
  {
   "cell_type": "code",
   "execution_count": 15,
   "metadata": {},
   "outputs": [
    {
     "name": "stdout",
     "output_type": "stream",
     "text": [
      "757272.549  gallons/year is is the amount of water evaporated from the pool in CA,\n",
      "Stanford Santa Clara County and Palo Alto Santa Clara County\n"
     ]
    }
   ],
   "source": [
    "print( f\"{round(sum_areap_evo*7.48052,3)}  gallons/year is is the amount of water evaporated from the pool in CA,\")\n",
    "print(*locations, sep = \" and \")"
   ]
  },
  {
   "cell_type": "markdown",
   "metadata": {},
   "source": [
    "## Evaporation from lawns"
   ]
  },
  {
   "cell_type": "code",
   "execution_count": 16,
   "metadata": {},
   "outputs": [
    {
     "data": {
      "text/plain": [
       "'Calculate the evotranspiration rate from laws monthly and annually for the user \\nzip code and the area equivalent to the pool area to compare the amount of water lost\\ndue to evaporation on an uncovered pool surface and that of a lawn'"
      ]
     },
     "execution_count": 16,
     "metadata": {},
     "output_type": "execute_result"
    }
   ],
   "source": [
    "\"\"\"Calculate the evotranspiration rate from laws monthly and annually for the user \n",
    "zip code and the area equivalent to the pool area to compare the amount of water lost\n",
    "due to evaporation on an uncovered pool surface and that of a lawn\"\"\""
   ]
  },
  {
   "cell_type": "code",
   "execution_count": 17,
   "metadata": {},
   "outputs": [
    {
     "data": {
      "text/plain": [
       "month\n",
       "Jan    1.16\n",
       "Feb    1.76\n",
       "Mar    2.69\n",
       "Apr    4.15\n",
       "May    5.77\n",
       "Jun    7.54\n",
       "Jul    7.46\n",
       "Aug    6.43\n",
       "Sep    5.08\n",
       "Oct    3.34\n",
       "Nov    1.85\n",
       "Dec    1.15\n",
       "Name: eto, dtype: float64"
      ]
     },
     "execution_count": 17,
     "metadata": {},
     "output_type": "execute_result"
    }
   ],
   "source": [
    "# ETO values by year\n",
    "eto_year = cdp[['month','eto']].copy().iloc[0:12]\n",
    "\n",
    "eto_year.reset_index(inplace=True)\n",
    "eto_year.set_index('month', inplace=True)\n",
    "\n",
    "eto_year = eto_year['eto']\n",
    "\n",
    "eto_year"
   ]
  },
  {
   "cell_type": "code",
   "execution_count": 18,
   "metadata": {},
   "outputs": [
    {
     "name": "stdout",
     "output_type": "stream",
     "text": [
      "7.54 Jun\n",
      "[1.389, 2.108, 3.221, 4.97, 6.91, 9.029, 8.933, 7.7, 6.083, 4.0, 2.215, 1.377]\n"
     ]
    }
   ],
   "source": [
    "d_eto_year = eto_year.to_dict()\n",
    "#Creating list to store the values\n",
    "l_month = []\n",
    "l_eto = []\n",
    "convert_eto_anual =[]\n",
    "\n",
    "for k,v in d_eto_year.items():\n",
    "    l_month.append(k)\n",
    "    l_eto.append(v)\n",
    "    convert_eto_anual.append(round((v*0.0393701*30.4167),3))\n",
    "\n",
    "\n",
    "max_eto = max(l_eto)\n",
    "pos_eto = l_eto.index(max_eto)\n",
    "\n",
    "print(max_eto, l_month[pos_eto])\n",
    "print(convert_eto_anual)"
   ]
  },
  {
   "cell_type": "code",
   "execution_count": 19,
   "metadata": {},
   "outputs": [
    {
     "name": "stdout",
     "output_type": "stream",
     "text": [
      "Max value of Evotranspiration: 9.029 inches/month for the month Jun\n"
     ]
    }
   ],
   "source": [
    "print(f\"Max value of Evotranspiration: {max(convert_eto_anual)} inches/month for the month {l_month[pos_eto]}\")"
   ]
  },
  {
   "cell_type": "code",
   "execution_count": 20,
   "metadata": {},
   "outputs": [],
   "source": [
    "sum_area_py = 0\n",
    "area_py = [round((area*CU*0.70*v),3) for v in convert_eto_anual]\n",
    "sum_area_py= round(sum(area_py),3)"
   ]
  },
  {
   "cell_type": "code",
   "execution_count": 21,
   "metadata": {},
   "outputs": [
    {
     "name": "stdout",
     "output_type": "stream",
     "text": [
      "49101.217 gallons/month is the landscape allowance water for the peak month Jun in California,\n",
      "Stanford Santa Clara County and Palo Alto Santa Clara County\n"
     ]
    }
   ],
   "source": [
    "print( f\"{max(area_py)} gallons/month is the landscape allowance water for the peak month {l_month[pos_eto]} in California,\")\n",
    "print(*locations, sep = \" and \")"
   ]
  },
  {
   "cell_type": "code",
   "execution_count": 22,
   "metadata": {},
   "outputs": [
    {
     "name": "stdout",
     "output_type": "stream",
     "text": [
      "315060.253  gallons/year is the annually landscape allowance water in California,\n",
      "Stanford Santa Clara County and Palo Alto Santa Clara County\n"
     ]
    }
   ],
   "source": [
    "print( f\"{sum_area_py}  gallons/year is the annually landscape allowance water in California,\")\n",
    "print(*locations, sep = \" and \")"
   ]
  },
  {
   "cell_type": "code",
   "execution_count": 23,
   "metadata": {},
   "outputs": [
    {
     "data": {
      "image/png": "[encoded data removed]",
      "text/plain": [
       "<Figure size 720x432 with 1 Axes>"
      ]
     },
     "metadata": {
      "needs_background": "light"
     },
     "output_type": "display_data"
    }
   ],
   "source": [
    "# Define plot space\n",
    "fig, ax = plt.subplots(figsize=(10, 6))\n",
    "# Define x and y axes\n",
    "ax.bar(l_month, convert_eto_anual, color = 'darkblue', \n",
    "        edgecolor = 'cyan')\n",
    "plt.xlabel('Month')\n",
    "plt.ylabel('Eto\\n(inches/month)')\n",
    "plt.title('Evapotranspiration rate per month')\n",
    "plt.savefig(\"pie.png\")\n",
    "plt.show()"
   ]
  },
  {
   "cell_type": "code",
   "execution_count": 24,
   "metadata": {},
   "outputs": [
    {
     "data": {
      "text/plain": [
       "''"
      ]
     },
     "execution_count": 24,
     "metadata": {},
     "output_type": "execute_result"
    }
   ],
   "source": [
    "pdf = FPDF()\n",
    "pdf = FPDF(orientation='P', unit='mm', format='A4')\n",
    "\n",
    "#header of the pdf file\n",
    "pdf.add_page()\n",
    "pdf.set_font('Arial', 'B', 16)\n",
    "pdf.image(\"images_notes/cat.jpg\", x = 10, y = None, w = 190, h = 50, type = '', link = '')\n",
    "pdf.ln(10)\n",
    "#pdf.add_font('sysfont', '', r\"c:\\WINDOWS\\Fonts\\HelveticaNeue.ttf\", uni=True)\n",
    "pdf.add_font('rale_m', '', 'font/Raleway-Medium_0.ttf', uni=True)\n",
    "pdf.add_font('rale', '', 'font/Raleway-MediumItalic.ttf', uni=True)\n",
    "pdf.add_font('ralebi', '', 'font/Raleway-Bold_0.ttf', uni=True)\n",
    "pdf.set_font('ralebi', '', 14)\n",
    "pdf.cell(0, 6, f\"Residential Outdoors and Landscaping water use\",ln=1)\n",
    "pdf.cell(0, 6, ln=1)\n",
    "pdf.set_font('ralebi', '', 11)\n",
    "pdf.multi_cell(0, 5, \"By 2005 the outdoors water consumption for most of the regions at United States reached between 50-70% of the total residential use. During the months of Jun to Ago the evaporation rates peaks due to the fact that mean temperature rise in the summer. Since water evaporates quickly, the water evaporated from water bodies increase also. More water evaporates from the lawns this means that irrigation system increase during summer months, by this period the water delivery system operates to full capacity, therefore is important to elaborate water conservation programs.\")\n",
    "#pdf.cell(0, 6, f' Max value of Evotranspiration: {max(convert_eto_anual)} inches/month for the month {l_month[pos_eto]}', 0, 1, 'L', 1)\n",
    "pdf.cell(0, 6, ln=1)\n",
    "pdf.set_font('ralebi', '', 12)\n",
    "pdf.cell(0, 6, f\"Evaporation from swimming pools\",ln=1)\n",
    "pdf.cell(0, 6, ln=1)\n",
    "pdf.set_font('rale', '', 11)\n",
    "if shape_of_the_pool == shapes[0]:\n",
    "    pdf.cell(0, 6,f\"the longitude of the pool of rectangular shape is {pool_x} ft\",ln=1)\n",
    "    pdf.cell(0, 6,f\"the wide of the pool of rectangular shape is {pool_x} ft\",ln=1)\n",
    "elif shape_of_the_pool == shapes[1]:\n",
    "     pdf.cell(0, 6,f\"the diameter of the pool of circular shape is {pool_x} ft\",ln=1)\n",
    "elif shape_of_the_pool == shapes[2]:\n",
    "    pdf.cell(0, 6, f\"the larger diameter of the pool of  Oblong shape is {pool_a} ft\",ln=1)\n",
    "    pdf.cell(0,6 , f\"the smaller diameter of the pool of Oblong shape is {pool_b} ft\",ln=1)\n",
    "    pdf.cell(0,6 , f\"the longitude of the pool of Oblong shape is {pool_l} ft\",ln=1)\n",
    "pdf.cell(0, 6, f\"the surface area calculated is approximately {area} ft\" , ln=1)\n",
    "pdf.cell(0, 6, ln=1)\n",
    "pdf.multi_cell(0,5 ,f\"To estimate the amount of water that evaporate from a pool, we need to calculate first the surface area of the pool,then we need to determine the evaporation rate and multiply that value for the area of the pool to finally obtain the volume of water that evaporate from the uncovered surface in square ft.\")\n",
    "pdf.cell(0, 6, f\"Values of evoporation rates for the zipcode {user_zip} was taken from the closest body of water in this case: \",  ln=1)\n",
    "pdf.cell(0, 6, \" and \".join(str(e) for e in zo),  ln=1)\n",
    "pdf.cell(0, 6, ln=1)\n",
    "pdf.set_font('ralebi', '', 11)\n",
    "pdf.cell(0, 6, f\"Determining the amount of water that evaporate during the peak month\", ln=1)\n",
    "pdf.set_font('rale', '', 11)\n",
    "pdf.cell(0, 6, f\"{round(max(convert_evo_anual)*area*7.48052,3)} gallons is the amount of water evaporated from the pool for the peak month {lst_month[pos_evo]} in California\",ln=1)\n",
    "pdf.cell(0, 6, ln=1)\n",
    "pdf.set_font('ralebi', '', 11)\n",
    "pdf.cell(0, 6, f\"Determining the amount of water that evaporate during the whole year\", ln=1)\n",
    "pdf.set_font('rale', '', 11)\n",
    "pdf.cell(0, 6,  f\"{round(sum_areap_evo*7.48052,3)}  gallons/year is is the amount of water evaporated annually from the pool in California\", ln=1)\n",
    "pdf.cell(0, 6, ln=1)\n",
    "pdf.set_font('ralebi', '', 12)\n",
    "pdf.cell(0, 6, f\"Evaporation from Lawns\",ln=1)\n",
    "pdf.cell(0, 6, ln=1)\n",
    "pdf.set_font('rale', '', 11)\n",
    "pdf.multi_cell(0,5 ,f\"We need to calculate the evotranspiration rate from laws monthly and annually for the user zip code and the area equivalent to the pool area to compare the amount of water lost due to evaporation on an uncovered pool surface and that of a lawn\")\n",
    "pdf.cell(0, 6, ln=1)\n",
    "pdf.set_font('ralebi', '', 11)\n",
    "pdf.cell(0, 6, f\"Determining  the amount of water  needed for the lawn in the peak month\", ln=1)\n",
    "pdf.set_font('rale', '', 11)\n",
    "pdf.cell(0, 6, f\"{max(area_py)} gallons/month is the landscape allowance water for the peak month {l_month[pos_eto]} in California at:\",ln=1)\n",
    "pdf.cell(0,6, \" and \".join(str(e) for e in locations) ,ln=1)\n",
    "pdf.cell(0, 6, ln=1)\n",
    "pdf.set_font('ralebi', '', 11)\n",
    "pdf.cell(0, 6, f\"Determining  the amount of water per year  needed for the lawn\" , ln=1)\n",
    "pdf.set_font('rale', '', 11)\n",
    "pdf.cell(0, 6, f\"{sum_area_py}  gallons/year is the annually landscape allowance water in California, at:\", ln=1)\n",
    "pdf.cell(0,6, \" and \".join(str(e) for e in locations) ,ln=1)\n",
    "pdf.cell(0, 6, ln=1)\n",
    "#pdf.set_fill_color(200, 220, 255)\n",
    "pdf.cell(0, 6, ln=1)\n",
    "pdf.image(\"pie.png\", x = None, y = None, w = 150, h = 100, type = '', link = '')\n",
    "pdf.cell(0, 6, ln=1)\n",
    "pdf.set_font('rale', '', 11)\n",
    "pdf.multi_cell(0, 5,f\"In the barchar above we can notice that the peak month for evotranspiration rate is the month of {l_month[pos_eto]}, which one is close to the summer months.When we compare the pool annually water lost with the water lost from the lawns for the same area in this case {area} square ft, we realize that the amount of water that evaporate from the pool is is significantly higher than the one from the laws some recomendation are to buy a  plastic cover for your pool the amount of money lost due water evaporation  from the pool is aproximatelly {year_water_lost} $.\")\n",
    "\n",
    "pdf.set_y(-30) #30 CM from the bottom of the page\n",
    "pdf.set_font('Arial', '', 8)\n",
    "pdf.set_text_color(0)\n",
    "\n",
    "\n",
    "pdf.output('water_report.pdf', 'F')"
   ]
  },
  {
   "cell_type": "code",
   "execution_count": 25,
   "metadata": {},
   "outputs": [
    {
     "data": {
      "text/plain": [
       "True"
      ]
     },
     "execution_count": 25,
     "metadata": {},
     "output_type": "execute_result"
    }
   ],
   "source": [
    "wb.open_new(\"water_report.pdf\")"
   ]
  },
  {
   "cell_type": "code",
   "execution_count": null,
   "metadata": {},
   "outputs": [],
   "source": []
  }
 ],
 "metadata": {
  "kernelspec": {
   "display_name": "Python 3",
   "language": "python",
   "name": "python3"
  },
  "language_info": {
   "codemirror_mode": {
    "name": "ipython",
    "version": 3
   },
   "file_extension": ".py",
   "mimetype": "text/x-python",
   "name": "python",
   "nbconvert_exporter": "python",
   "pygments_lexer": "ipython3",
   "version": "3.7.3"
  }
 },
 "nbformat": 4,
 "nbformat_minor": 2
}
